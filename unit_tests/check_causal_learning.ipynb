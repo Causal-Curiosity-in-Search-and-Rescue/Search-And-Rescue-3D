{
 "cells": [
  {
   "cell_type": "markdown",
   "metadata": {},
   "source": [
    "## Trying to Use CausalNex with Bayesian Network using StructureModel "
   ]
  },
  {
   "cell_type": "code",
   "execution_count": 3,
   "metadata": {},
   "outputs": [
    {
     "name": "stderr",
     "output_type": "stream",
     "text": [
      "e:\\Apps\\Anaconda\\envs\\gym-env\\lib\\site-packages\\tqdm\\auto.py:21: TqdmWarning: IProgress not found. Please update jupyter and ipywidgets. See https://ipywidgets.readthedocs.io/en/stable/user_install.html\n",
      "  from .autonotebook import tqdm as notebook_tqdm\n"
     ]
    }
   ],
   "source": [
    "import pandas as pd\n",
    "import numpy as np\n",
    "from causalnex.structure import StructureModel\n",
    "from causalnex.plots import plot_structure, NODE_STYLE, EDGE_STYLE\n",
    "from causalnex.network import BayesianNetwork\n",
    "from sklearn.model_selection import train_test_split\n",
    "from sklearn.metrics import accuracy_score, classification_report\n",
    "import matplotlib.pyplot as plt"
   ]
  },
  {
   "cell_type": "code",
   "execution_count": 46,
   "metadata": {},
   "outputs": [
    {
     "name": "stdout",
     "output_type": "stream",
     "text": [
      "   Texture  Friction  Movability\n",
      "0        0         0           0\n",
      "1        1         1           1\n"
     ]
    }
   ],
   "source": [
    "# Set a random seed for reproducibility\n",
    "np.random.seed(42)\n",
    "\n",
    "# Generate data based on the logic table\n",
    "# Here, 'Texture' directly determines 'Movability'\n",
    "data_size = 2  # Define the size of your dataset\n",
    "texture = np.random.randint(0, 2, data_size)  # Randomly generate 0s or 1s for 'Texture'\n",
    "\n",
    "# 'Movability' directly depends on 'Texture': if 'Texture' is 0, 'Movability' is 0; if 'Texture' is 1, 'Movability' is 1\n",
    "movability = np.copy(texture)  # Make 'Movability' identical to 'Texture'\n",
    "# movability = np.random.randint(0,2,data_size)  # Randomly generate 1s \n",
    "friction = np.copy(texture)\n",
    "\n",
    "# Create a DataFrame\n",
    "df = pd.DataFrame({\n",
    "    'Texture': texture,\n",
    "    'Friction':friction,\n",
    "    'Movability': movability\n",
    "})\n",
    "\n",
    "# Display the first few rows of the DataFrame\n",
    "print(df)"
   ]
  },
  {
   "cell_type": "code",
   "execution_count": 47,
   "metadata": {},
   "outputs": [],
   "source": [
    "# To define the Model Manually\n",
    "# sm = StructureModel()\n",
    "# sm.add_edge(\"Texture\", \"Movability\")\n",
    "# sm.add_edge(\"Texture\", \"Friction\")\n",
    "# sm.add_edge(\"Friction\", \"Movability\")"
   ]
  },
  {
   "cell_type": "code",
   "execution_count": 48,
   "metadata": {},
   "outputs": [
    {
     "name": "stderr",
     "output_type": "stream",
     "text": [
      "e:\\Apps\\Anaconda\\envs\\gym-env\\lib\\site-packages\\causalnex\\structure\\notears.py:514: RuntimeWarning: invalid value encountered in multiply\n",
      "  + (rho * (np.trace(exp_hdmrd) - d) + alpha) * exp_hdmrd.T * wmat * 2\n"
     ]
    }
   ],
   "source": [
    "# To do autolearning from pandas \n",
    "from causalnex.structure.notears import from_pandas_lasso,from_pandas\n",
    "sm = from_pandas_lasso(df,beta=0.001,w_threshold=0.1)\n",
    "# sm = from_pandas(df,w_threshold=0.1)"
   ]
  },
  {
   "cell_type": "code",
   "execution_count": 49,
   "metadata": {},
   "outputs": [
    {
     "name": "stderr",
     "output_type": "stream",
     "text": [
      "e:\\Apps\\Anaconda\\envs\\gym-env\\lib\\site-packages\\pygraphviz\\agraph.py:1405: RuntimeWarning: Warning: node 'Texture', graph '' size too small for label\n",
      "Warning: node 'Friction', graph '' size too small for label\n",
      "Warning: node 'Movability', graph '' size too small for label\n",
      "\n",
      "  warnings.warn(b\"\".join(errors).decode(self.encoding), RuntimeWarning)\n"
     ]
    }
   ],
   "source": [
    "from IPython.display import Image\n",
    "from causalnex.plots import plot_structure, NODE_STYLE, EDGE_STYLE\n",
    "\n",
    "viz = plot_structure(\n",
    "    sm,\n",
    "    graph_attributes={\"scale\": \"0.5\"},\n",
    "    all_node_attributes=NODE_STYLE.WEAK,\n",
    "    all_edge_attributes=EDGE_STYLE.WEAK,\n",
    "    prog='fdp'\n",
    ")\n",
    "viz.draw('causal_graph.png', format='png')"
   ]
  },
  {
   "cell_type": "code",
   "execution_count": 50,
   "metadata": {},
   "outputs": [
    {
     "name": "stderr",
     "output_type": "stream",
     "text": [
      "e:\\Apps\\Anaconda\\envs\\gym-env\\lib\\site-packages\\pgmpy\\models\\BayesianModel.py:8: FutureWarning: BayesianModel has been renamed to BayesianNetwork. Please use BayesianNetwork class, BayesianModel will be removed in future.\n",
      "  warnings.warn(\n"
     ]
    }
   ],
   "source": [
    "bn = BayesianNetwork(sm)\n",
    "bn = bn.fit_node_states(df)\n",
    "bn = bn.fit_cpds(df, method=\"BayesianEstimator\", bayes_prior=\"K2\")"
   ]
  },
  {
   "cell_type": "code",
   "execution_count": 22,
   "metadata": {},
   "outputs": [
    {
     "name": "stdout",
     "output_type": "stream",
     "text": [
      "   Movability_0  Movability_1\n",
      "0      0.978261      0.021739\n",
      "1      0.017241      0.982759\n",
      "2      0.978261      0.021739\n",
      "3      0.978261      0.021739\n",
      "4      0.978261      0.021739\n"
     ]
    }
   ],
   "source": [
    "# Predicting the probabilities\n",
    "predictions = bn.predict_probability(df, 'Movability')\n",
    "print(predictions.head())"
   ]
  },
  {
   "cell_type": "code",
   "execution_count": 23,
   "metadata": {},
   "outputs": [
    {
     "name": "stdout",
     "output_type": "stream",
     "text": [
      "0    False\n",
      "1     True\n",
      "2    False\n",
      "3    False\n",
      "4    False\n",
      "Name: Movability_1, dtype: bool\n"
     ]
    }
   ],
   "source": [
    "binary_predictions = predictions['Movability_1'] > 0.5  # Adjust based on actual column names in predictions\n",
    "print(binary_predictions.head())"
   ]
  },
  {
   "cell_type": "code",
   "execution_count": 45,
   "metadata": {},
   "outputs": [
    {
     "data": {
      "text/plain": [
       "(2,)"
      ]
     },
     "execution_count": 45,
     "metadata": {},
     "output_type": "execute_result"
    }
   ],
   "source": [
    "binary_predictions.shape"
   ]
  },
  {
   "cell_type": "code",
   "execution_count": 46,
   "metadata": {},
   "outputs": [
    {
     "data": {
      "text/plain": [
       "(2, 3)"
      ]
     },
     "execution_count": 46,
     "metadata": {},
     "output_type": "execute_result"
    }
   ],
   "source": [
    "df.shape"
   ]
  },
  {
   "cell_type": "code",
   "execution_count": 50,
   "metadata": {},
   "outputs": [
    {
     "data": {
      "text/html": [
       "<div>\n",
       "<style scoped>\n",
       "    .dataframe tbody tr th:only-of-type {\n",
       "        vertical-align: middle;\n",
       "    }\n",
       "\n",
       "    .dataframe tbody tr th {\n",
       "        vertical-align: top;\n",
       "    }\n",
       "\n",
       "    .dataframe thead th {\n",
       "        text-align: right;\n",
       "    }\n",
       "</style>\n",
       "<table border=\"1\" class=\"dataframe\">\n",
       "  <thead>\n",
       "    <tr style=\"text-align: right;\">\n",
       "      <th></th>\n",
       "      <th>Texture</th>\n",
       "      <th>Friction</th>\n",
       "      <th>Movability</th>\n",
       "      <th>Movability_1</th>\n",
       "    </tr>\n",
       "  </thead>\n",
       "  <tbody>\n",
       "    <tr>\n",
       "      <th>0</th>\n",
       "      <td>0</td>\n",
       "      <td>0</td>\n",
       "      <td>1</td>\n",
       "      <td>True</td>\n",
       "    </tr>\n",
       "    <tr>\n",
       "      <th>1</th>\n",
       "      <td>1</td>\n",
       "      <td>1</td>\n",
       "      <td>1</td>\n",
       "      <td>True</td>\n",
       "    </tr>\n",
       "  </tbody>\n",
       "</table>\n",
       "</div>"
      ],
      "text/plain": [
       "   Texture  Friction  Movability  Movability_1\n",
       "0        0         0           1          True\n",
       "1        1         1           1          True"
      ]
     },
     "execution_count": 50,
     "metadata": {},
     "output_type": "execute_result"
    }
   ],
   "source": [
    "ab = pd.concat([df,binary_predictions],axis=1,ignore_index=False)\n",
    "ab.head()"
   ]
  },
  {
   "cell_type": "code",
   "execution_count": null,
   "metadata": {},
   "outputs": [],
   "source": []
  }
 ],
 "metadata": {
  "kernelspec": {
   "display_name": "Python 3",
   "language": "python",
   "name": "python3"
  },
  "language_info": {
   "codemirror_mode": {
    "name": "ipython",
    "version": 3
   },
   "file_extension": ".py",
   "mimetype": "text/x-python",
   "name": "python",
   "nbconvert_exporter": "python",
   "pygments_lexer": "ipython3",
   "version": "3.8.18"
  }
 },
 "nbformat": 4,
 "nbformat_minor": 2
}
